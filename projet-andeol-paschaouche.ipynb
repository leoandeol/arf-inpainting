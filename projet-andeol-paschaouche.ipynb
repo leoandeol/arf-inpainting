{
 "cells": [
  {
   "cell_type": "markdown",
   "metadata": {},
   "source": [
    "Projet ARF - inpainting"
   ]
  },
  {
   "cell_type": "code",
   "execution_count": 13,
   "metadata": {},
   "outputs": [],
   "source": [
    "from sklearn.linear_model import LinearRegression, Ridge, Lasso\n",
    "from sklearn.model_selection import cross_val_score\n",
    "import numpy as np\n",
    "import matplotlib.pyplot as plt"
   ]
  },
  {
   "cell_type": "markdown",
   "metadata": {},
   "source": [
    "Préambule"
   ]
  },
  {
   "cell_type": "code",
   "execution_count": 14,
   "metadata": {},
   "outputs": [],
   "source": [
    "def load_usps(fn):\n",
    "    with open(fn,\"r\") as f:\n",
    "        f.readline()\n",
    "        data = [[float(x) for x in l.split()] for l in f if len(l.split())>2]\n",
    "    tmp=np.array(data)\n",
    "    return tmp[:,1:],tmp[:,0].astype(int)\n",
    "\n",
    "def show_usps(data):\n",
    "    plt.imshow(data.reshape((16,16)),interpolation=\"nearest\",cmap=\"gray\")"
   ]
  },
  {
   "cell_type": "code",
   "execution_count": 15,
   "metadata": {},
   "outputs": [],
   "source": [
    "X_train, y_train = load_usps(\"USPS_train.txt\")\n",
    "X_test, y_test = load_usps(\"USPS_test.txt\")"
   ]
  },
  {
   "cell_type": "code",
   "execution_count": 16,
   "metadata": {},
   "outputs": [],
   "source": [
    "lr = LinearRegression()\n",
    "ri = Ridge()\n",
    "la = Lasso()"
   ]
  },
  {
   "cell_type": "code",
   "execution_count": 12,
   "metadata": {},
   "outputs": [
    {
     "name": "stdout",
     "output_type": "stream",
     "text": [
      "Comparison of accuracies\n",
      "Linear Regression :  61.5814945149657 %\n",
      "Ridge Regression :  61.61453095733869 %\n",
      "Lasso Regression :  8.632338794405337 %\n"
     ]
    }
   ],
   "source": [
    "print(\"Comparison of accuracies\")\n",
    "cv=4\n",
    "print(\"Linear Regression : \",100*sum(cross_val_score(lr,X_train,y_train,cv=cv))/cv,\"%\")\n",
    "print(\"Ridge Regression : \",100*sum(cross_val_score(ri,X_train,y_train,cv=cv))/cv,\"%\")\n",
    "print(\"Lasso Regression : \",100*sum(cross_val_score(la,X_train,y_train,cv=cv))/cv,\"%\")"
   ]
  },
  {
   "cell_type": "code",
   "execution_count": 26,
   "metadata": {},
   "outputs": [
    {
     "data": {
      "text/plain": [
       "<matplotlib.legend.Legend at 0x7f9c04750940>"
      ]
     },
     "execution_count": 26,
     "metadata": {},
     "output_type": "execute_result"
    },
    {
     "data": {
      "image/png": "[encoded data removed]",
      "text/plain": [
       "<Figure size 432x288 with 1 Axes>"
      ]
     },
     "metadata": {},
     "output_type": "display_data"
    }
   ],
   "source": [
    "x = []\n",
    "cv=3\n",
    "y_lr = []\n",
    "y_ri = []\n",
    "y_la = []\n",
    "for i in range(1,20):\n",
    "    xx = i/10\n",
    "    lr = LinearRegression()\n",
    "    ri = Ridge(alpha=xx)\n",
    "    la = Lasso(alpha=xx)\n",
    "    x.append(xx)\n",
    "    y_lr.append(100*sum(cross_val_score(lr,X_train,y_train,cv=cv))/cv)\n",
    "    y_ri.append(100*sum(cross_val_score(ri,X_train,y_train,cv=cv))/cv)\n",
    "    y_la.append(100*sum(cross_val_score(la,X_train,y_train,cv=cv))/cv)\n",
    "plt.plot(x,y_lr,label=\"Linear Regression\")\n",
    "plt.plot(x,y_ri,label=\"Ridge Regression\")\n",
    "plt.plot(x,y_la,label=\"Lasso Regression\")\n",
    "plt.title(\"Grid search of alpha and comparison of accuracies %\")\n",
    "plt.yscale('log')\n",
    "plt.legend()"
   ]
  },
  {
   "cell_type": "code",
   "execution_count": null,
   "metadata": {},
   "outputs": [],
   "source": []
  }
 ],
 "metadata": {
  "kernelspec": {
   "display_name": "Python 3",
   "language": "python",
   "name": "python3"
  },
  "language_info": {
   "codemirror_mode": {
    "name": "ipython",
    "version": 3
   },
   "file_extension": ".py",
   "mimetype": "text/x-python",
   "name": "python",
   "nbconvert_exporter": "python",
   "pygments_lexer": "ipython3",
   "version": "3.5.3"
  }
 },
 "nbformat": 4,
 "nbformat_minor": 2
}
